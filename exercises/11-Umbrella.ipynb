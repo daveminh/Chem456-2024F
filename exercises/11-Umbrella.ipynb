{
  "cells": [
    {
      "cell_type": "markdown",
      "metadata": {
        "id": "oMBt4JZ7BIVE"
      },
      "source": [
        "# Umbrella sampling\n",
        "\n",
        "In this exercise, we will introduce umbrella sampling. We will study a 1D potential energy surface described in [1] and used in [2]. The unperturbed free energy surface is described by,\n",
        "$U_o(z) = (5z^3 - 10z + 3)z$.\n",
        "\n",
        "[1] G. Hummer, in Free Energy Calculations, edited by C. Chipot and A.\n",
        "Pohorille (Springer, Berlin, 2007), Vol. 86.\n",
        "\n",
        "[2] D. Minh and A. Adib, Optimized Free Energies from Bidirectional Single-Molecule Force Spectroscopy, [Physical Review Letters 100(18): 180602 (2008)](https://link.aps.org/doi/10.1103/PhysRevLett.100.180602)."
      ]
    },
    {
      "cell_type": "markdown",
      "metadata": {
        "id": "DIPs9UnkHeEq"
      },
      "source": [
        "# Part 0 - Setting up the required software\n",
        "\n",
        "The following cell will install pymbar, which is useful for the analysis of umbrella sampling."
      ]
    },
    {
      "cell_type": "code",
      "execution_count": null,
      "metadata": {
        "id": "Tc6AdblBHZ0w"
      },
      "outputs": [],
      "source": [
        "!pip install pymbar"
      ]
    },
    {
      "cell_type": "code",
      "execution_count": null,
      "metadata": {
        "id": "Vv2P6PwxJWdC"
      },
      "outputs": [],
      "source": [
        "import numpy as np\n",
        "import scipy\n",
        "import scipy.integrate\n",
        "\n",
        "import pymbar\n",
        "\n",
        "%matplotlib inline\n",
        "import matplotlib.pyplot as plt"
      ]
    },
    {
      "cell_type": "markdown",
      "metadata": {
        "id": "W5MfYwuNfGZR"
      },
      "source": [
        "# Part 1 - Monte Carlo Simulation"
      ]
    },
    {
      "cell_type": "markdown",
      "metadata": {
        "id": "AYYJUnv_0266"
      },
      "source": [
        "## Unperturbed surface\n",
        "\n",
        "Let's first show the unperturbed surface and the expected probability of z based on the Boltzmann distribution."
      ]
    },
    {
      "cell_type": "code",
      "execution_count": null,
      "metadata": {
        "id": "XorCLLTWfoJ6"
      },
      "outputs": [],
      "source": [
        "# The unperturbed surface\n",
        "U_o = lambda z: (5*z*z*z - 10*z + 3)*z\n",
        "z_min = -1.75\n",
        "z_max = 1.5\n",
        "\n",
        "# The partition function of the original surface\n",
        "Q_o = scipy.integrate.quad(lambda z: np.exp(-U_o(z)), z_min, z_max)[0]\n",
        "# The probability density\n",
        "ρ_o = lambda z: np.exp(-U_o(z))/Q_o"
      ]
    },
    {
      "cell_type": "code",
      "execution_count": null,
      "metadata": {
        "id": "hS8cn2FfbuOg"
      },
      "outputs": [],
      "source": [
        "# Visualize the surface\n",
        "z = np.linspace(z_min,z_max,51)\n",
        "\n",
        "plt.subplot(1,2,1)\n",
        "plt.tight_layout(w_pad=4)\n",
        "plt.plot(z, U_o(z))\n",
        "plt.title('Original free energy surface')\n",
        "plt.xlabel('Position');\n",
        "plt.ylabel('Free energy ($k_B T$)');\n",
        "\n",
        "plt.subplot(1,2,2)\n",
        "plt.plot(z, ρ_o(z))\n",
        "plt.title('Probability density function')\n",
        "plt.xlabel('Position');\n",
        "plt.ylabel('Probability density');"
      ]
    },
    {
      "cell_type": "markdown",
      "metadata": {
        "id": "ShAd5krVeFUr"
      },
      "source": [
        "The free energy surface has two local minima. The right well is much less probable than the left well.\n",
        "\n",
        "Here are some quantitative properties of the surface:"
      ]
    },
    {
      "cell_type": "code",
      "execution_count": null,
      "metadata": {
        "id": "XqvC_OPQc36x"
      },
      "outputs": [],
      "source": [
        "z_max_ρ_l = scipy.optimize.minimize(U_o, z_min)['x'][0]\n",
        "U_z_max_ρ_l = U_o(z_max_ρ_l)\n",
        "z_max_ρ_r = scipy.optimize.minimize(U_o, z_max)['x'][0]\n",
        "U_z_max_ρ_r = U_o(z_max_ρ_r)\n",
        "\n",
        "print(f'There is a minimum at {z_max_ρ_l:.4f} with energy {U_z_max_ρ_l:.4f}')\n",
        "print(f'There is a minimum at {z_max_ρ_r:.4f} with energy {U_z_max_ρ_r:.4f}')\n",
        "print(f'The free energy difference between the left and right well is {U_z_max_ρ_r - U_z_max_ρ_l:.4f}\\n')\n",
        "\n",
        "z_bar = scipy.integrate.quad(lambda z: z*ρ_o(z), z_min, z_max)[0]\n",
        "std_z_bar = np.sqrt(scipy.integrate.quad(lambda z: z*z*ρ_o(z), z_min, z_max)[0] - z_bar*z_bar)\n",
        "print(f\"z has a mean of {z_bar:.4f} and standard deviation of {std_z_bar:.4f}\")"
      ]
    },
    {
      "cell_type": "markdown",
      "metadata": {
        "id": "nSnMcTKy2L3b"
      },
      "source": [
        "## Sampling\n",
        "\n",
        "Now we will use acceptance-rejection to generate independent configurations from the Boltzmann distribution."
      ]
    },
    {
      "cell_type": "code",
      "execution_count": null,
      "metadata": {
        "id": "BFWg3hRxfVK1"
      },
      "outputs": [],
      "source": [
        "def acceptance_rejection(U, ρ_max, N, z_min, z_max, blocksize=5000):\n",
        "  \"\"\"\n",
        "  Generates random samples from a 1D energy surface using\n",
        "  the acceptance-rejection technique\n",
        "\n",
        "  Parameters\n",
        "  ----------\n",
        "  U : function\n",
        "    The potential energy\n",
        "  ρ_max : float\n",
        "    The maximum unnormalized probability\n",
        "  N : int\n",
        "    the number of samples to generate\n",
        "  z_min : float\n",
        "    the lower bound of the domain\n",
        "  z_max : float\n",
        "    the upper bound of the domain\n",
        "  blocksize : int\n",
        "    The number of uniform random variates to generate in an iteration.\n",
        "  \"\"\"\n",
        "  z = []\n",
        "  while len(z)<N:\n",
        "    z_trial = np.random.uniform(z_min, z_max, blocksize)\n",
        "    acc_trial = np.exp(-U(z_trial))/ρ_max\n",
        "    z += list(z_trial[np.random.uniform(size=blocksize)<acc_trial])\n",
        "  return np.array(z[:N])"
      ]
    },
    {
      "cell_type": "markdown",
      "source": [
        "Acceptance-rejection (in 1D) is like generating random points in 2D and keeping points that are \"under\" the probability density."
      ],
      "metadata": {
        "id": "vhcI605yV_IN"
      }
    },
    {
      "cell_type": "code",
      "source": [
        "# Illustration for acceptance-rejection\n",
        "z_max_ρ = scipy.optimize.minimize(U_o, -1.1)['x'][0]\n",
        "ρ_max = np.exp(-U_o(z_max_ρ))\n",
        "\n",
        "plt.subplot(1,2,2)\n",
        "plt.plot(z, np.exp(-U_o(z)))\n",
        "plt.plot([z_min, z_min, z_max, z_max, z_min],[0, ρ_max, ρ_max, 0, 0])\n",
        "plt.title('Unnormalized probability density function')\n",
        "plt.xlabel('Position');\n",
        "plt.ylabel('Probability density');"
      ],
      "metadata": {
        "id": "E_CgrkBGVWqw"
      },
      "execution_count": null,
      "outputs": []
    },
    {
      "cell_type": "code",
      "source": [
        "N_samples = 1000\n",
        "\n",
        "# Generate random samples from the unperturbed distribution\n",
        "z_max_ρ = scipy.optimize.minimize(U_o, -1.1)['x'][0]\n",
        "ρ_max = np.exp(-U_o(z_max_ρ))\n",
        "z_random = acceptance_rejection(U_o, ρ_max, N_samples, z_min, z_max)"
      ],
      "metadata": {
        "id": "r56LYlIcliel"
      },
      "execution_count": null,
      "outputs": []
    },
    {
      "cell_type": "markdown",
      "source": [
        "## Analysis\n",
        "\n",
        "Next we will visualize this histogram of samples and the free energy surface."
      ],
      "metadata": {
        "id": "WM2ZgMTPllCg"
      }
    },
    {
      "cell_type": "code",
      "execution_count": null,
      "metadata": {
        "id": "WizbpBwAzACC"
      },
      "outputs": [],
      "source": [
        "# Plot histogram of random samples and reconstructed free energy\n",
        "(counts, edges) = np.histogram(z_random, bins=50, range=(z_min, z_max))\n",
        "U_hat = -np.log(counts)\n",
        "\n",
        "plt.subplot(1,2,1)\n",
        "plt.tight_layout(w_pad=4)\n",
        "plt.plot(z[:-1] + (z[1]-z[0])/2, counts)\n",
        "plt.title('Histogram')\n",
        "plt.xlabel('Position');\n",
        "plt.ylabel('Counts');\n",
        "\n",
        "plt.subplot(1,2,2)\n",
        "plt.plot(z[:-1] + (z[1]-z[0])/2, U_hat)\n",
        "plt.title('Reconstructed free energy surface')\n",
        "plt.xlabel('Position');\n",
        "plt.ylabel('Free energy ($k_B T$)');\n",
        "\n",
        "# Estimate expectation values based on random samples\n",
        "z_hat = np.mean(z_random)\n",
        "std_z_hat = np.std(z_random)\n",
        "\n",
        "ind_l = np.argmax(counts[z[:-1]<0])\n",
        "ind_r = np.argmax(counts[z[:-1]>0]) + len(counts[z[:-1]<0])\n",
        "print(f'There is a minimum at {z[ind_l]:.4f} with energy {U_hat[ind_l]:.4f}')\n",
        "print(f'There is a minimum at {z[ind_r]:.4f} with energy {U_hat[ind_r]:.4f}')\n",
        "print(f'The free energy difference between the left and right well is {U_hat[ind_r] - U_hat[ind_l]:.4f}\\n')\n",
        "\n",
        "print(f\"z has an estimated mean of {z_hat:.4f} and estimated standard deviation of {std_z_hat:.4f}\")"
      ]
    },
    {
      "cell_type": "markdown",
      "metadata": {
        "id": "dUx5uMSS2SjC"
      },
      "source": [
        "## Questions\n",
        "\n",
        "--> If you use 1000 samples, do you observe many samples in both energy wells?\n",
        "\n",
        "--> How do the following estimated quantities compare to their true values?\n",
        "* free energy energy difference between the left and right wells\n",
        "* standard deviation of z\n",
        "\n",
        "--> Try estimating these properties based on 10000, 100000, and 1000000 samples. Describe how your estimates change as you increase the number of samples."
      ]
    },
    {
      "cell_type": "markdown",
      "metadata": {
        "id": "aA2Yz_aHk2dK"
      },
      "source": [
        "# Part 2 - Umbrella sampling"
      ]
    },
    {
      "cell_type": "markdown",
      "metadata": {
        "id": "wi0PalXSt68-"
      },
      "source": [
        "## Biased surface\n",
        "\n",
        "Now let's look at what the energy surface and probability density function looks like with a harmonic biasing potential."
      ]
    },
    {
      "cell_type": "code",
      "execution_count": null,
      "metadata": {
        "id": "PuFkjMeZgAfc"
      },
      "outputs": [],
      "source": [
        "N_windows = 20 # This is the number of thermodynamic states\n",
        "\n",
        "# Potential energy of the system with a harmonic bias on z\n",
        "def U_bias(z, k_s, z_o):\n",
        "  return k_s*np.square(z-z_o)/2\n",
        "\n",
        "def U(z, k_s, z_o):\n",
        "  return U_o(z) + U_bias(z, k_s, z_o)\n",
        "\n",
        "# Loop over multiple spring centers\n",
        "plt.subplot(1,2,1)\n",
        "plt.tight_layout(w_pad=4)\n",
        "plt.title('Perturbed free energy surface')\n",
        "plt.xlabel('Position');\n",
        "plt.ylabel('Free energy ($k_B T$)');\n",
        "for z_c in np.linspace(-1.5, 1.5, N_windows):\n",
        "  plt.plot(z, U(z, 15, z_c))\n",
        "plt.ylim(plt.ylim()[0], 40)\n",
        "\n",
        "plt.subplot(1,2,2)\n",
        "plt.title('Probability density function')\n",
        "plt.xlabel('Position');\n",
        "plt.ylabel('Free energy ($k_B T$)');\n",
        "for z_c in np.linspace(-1.5, 1.5, N_windows):\n",
        "  # The partition function of the perturbed surface\n",
        "  Q_c = scipy.integrate.quad(lambda z: np.exp(-U(z, 15, z_c)), z_min, z_max)[0]\n",
        "  # The probability density\n",
        "  ρ_c = lambda z: np.exp(-U(z, 15, z_c))/Q_c\n",
        "  plt.plot(z, ρ_c(z))"
      ]
    },
    {
      "cell_type": "markdown",
      "metadata": {
        "id": "gafKf7O2wQtG"
      },
      "source": [
        "## Sampling\n",
        "\n",
        "Now we will use the acceptance-rejection to generate independent configurations from the Boltzmann distribution with a harmonic bias and different spring constants."
      ]
    },
    {
      "cell_type": "code",
      "execution_count": null,
      "metadata": {
        "id": "cYEm3_DzmkKt"
      },
      "outputs": [],
      "source": [
        "N_samples = 10000 # This is the total number of samples\n",
        "z_random = []\n",
        "\n",
        "for z_c in np.linspace(-1.5, 1.5, N_windows):\n",
        "  # Generate random samples from the biased distribution\n",
        "  z_max_ρ = scipy.optimize.minimize(lambda z: U(z, 15, z_c), z_c)['x'][0]\n",
        "  ρ_max = np.exp(-U(z_max_ρ, 15, z_c))\n",
        "  z_random_c = acceptance_rejection(lambda z: U(z, 15, z_c), ρ_max, \\\n",
        "    int(N_samples/N_windows), z_min, z_max)\n",
        "  z_random.append(z_random_c)"
      ]
    },
    {
      "cell_type": "markdown",
      "source": [
        "## Analysis\n",
        "\n",
        "We will visualize histogram of samples from *all* windows and free energy surfaces. Biased surfaces are obtained by the Boltzmann inverse and unbiased surfaces by subtracting the bias."
      ],
      "metadata": {
        "id": "Wy34JLhcmz6J"
      }
    },
    {
      "cell_type": "code",
      "source": [
        "figs = []\n",
        "axs = []\n",
        "for (ind, title, ylabel) in [(0,'Histogram','Counts'), \\\n",
        "  (1,'Reconstructed biased free energy surfaces','Free energy ($k_B T$)'), \\\n",
        "  (2,'Reconstructed free energy surfaces','Free energy ($k_B T$)')]:\n",
        "  figs.append(plt.figure(ind))\n",
        "  axs.append(figs[ind].add_axes((0,0,1,1)))\n",
        "  plt.title(title)\n",
        "  plt.xlabel('Position')\n",
        "  plt.ylabel(ylabel)\n",
        "\n",
        "for (window_index, z_c) in enumerate(np.linspace(-1.5, 1.5, N_windows)):\n",
        "  # Plot histogram of random samples and reconstructed biased free energy\n",
        "  (counts, edges) = np.histogram(z_random[window_index], bins=50, range=(z_min, z_max))\n",
        "  U_hat = -np.log(counts)\n",
        "\n",
        "  bin_centers = z[:-1] + (z[1]-z[0])/2\n",
        "  axs[0].plot(bin_centers, counts)\n",
        "  axs[1].plot(bin_centers, U_hat)\n",
        "  axs[2].plot(bin_centers, U_hat - U_bias(bin_centers, 15, z_c))"
      ],
      "metadata": {
        "id": "dRnil91NlUJl"
      },
      "execution_count": null,
      "outputs": []
    },
    {
      "cell_type": "markdown",
      "source": [
        "After removing the effects of bias, free energy surfaces from each window contain only *part* of the total free energy surface. To obtain a complete free energy surface, we need to \"piece together\" information from each window. This entails shifting up and down segments of the surface based on their relative free energies. The traditional way to perform this shifting and calculate relative free energies is called the weighted histogram analysis method (WHAM), which makes use of histograms like we have visualized [1]. The multi-state Bennett Acceptance Ratio is a statistical optimal estimator that can be thought of as a binless version of WHAM [2]."
      ],
      "metadata": {
        "id": "ce0HruJmnd3O"
      }
    },
    {
      "cell_type": "code",
      "execution_count": null,
      "metadata": {
        "id": "l75si17OUnPu"
      },
      "outputs": [],
      "source": [
        "# Set up variables to use MBAR to estimate free energies\n",
        "z_random_flat = np.array(z_random).flatten()\n",
        "\n",
        "# Calculate the biasing energy for every sample in every state\n",
        "u_kn = []\n",
        "N_k = []\n",
        "for z_c in np.linspace(-1.5, 1.5, N_windows):\n",
        "  u_kn.append(U_bias(z_random_flat, 15, z_c))\n",
        "  N_k.append(int(N_samples/N_windows))\n",
        "u_kn = np.array(u_kn)\n",
        "N_k = np.array(N_k)\n",
        "\n",
        "# The reduced potential of the unperturbed state\n",
        "u_n = np.zeros(z_random_flat.shape)\n",
        "# Compute free energy surface based on Guassian kernel density estimate\n",
        "fes = pymbar.FES(u_kn, N_k)\n",
        "fes.generate_fes(u_n, z_random_flat, fes_type='kde', kde_parameters={'bandwidth':0.05})\n",
        "\n",
        "f_i = fes.get_fes(z)['f_i']\n",
        "mbar = fes.get_mbar()\n",
        "\n",
        "# Plot the free energy\n",
        "# of the perturbed states\n",
        "plt.figure()\n",
        "plt.plot(np.linspace(-1.5, 1.5, N_windows), mbar.f_k, '.-')\n",
        "plt.title('Free energy of perturbed system')\n",
        "plt.xlabel('Bias center, $z_o$')\n",
        "plt.ylabel('Free energy ($k_BT$)')\n",
        "\n",
        "# of the unperturbed system\n",
        "plt.figure()\n",
        "plt.plot(z, f_i - np.min(f_i))\n",
        "plt.plot(z, U_o(z) - np.min(U_o(z)), 'k')\n",
        "plt.title('Free energy of unperturbed system')\n",
        "plt.xlabel('Position, $z$')\n",
        "plt.ylabel('Free energy ($k_BT$)')\n",
        "plt.legend(['Reconstructed','Original'])\n",
        "\n",
        "ind_l = np.argmin(f_i[z<0])\n",
        "ind_r = np.argmin(f_i[z>0]) + len(f_i[z<0])\n",
        "print(f'There is a minimum at {z[ind_l]:.4f} with energy {f_i[ind_l]:.4f}')\n",
        "print(f'There is a minimum at {z[ind_r]:.4f} with energy {f_i[ind_r]:.4f}')\n",
        "print(f'The free energy difference between the left and right well is {f_i[ind_r] - f_i[ind_l]:.4f}\\n')\n",
        "\n",
        "# Compute mean annd expectation value\n",
        "A_in = np.array([z_random_flat,z_random_flat**2])\n",
        "u_n = np.zeros(z_random_flat.shape) # The reduced potential of the state of interest is unperturbed\n",
        "results = mbar.compute_multiple_expectations(A_in, u_n)\n",
        "\n",
        "z_hat = results['mu'][0]\n",
        "std_z_hat = np.sqrt(results['mu'][1] - results['mu'][0]**2)\n",
        "\n",
        "print(f\"z has an estimated mean of {z_hat:.4f} and estimated standard deviation of {std_z_hat:.4f}\")"
      ]
    },
    {
      "cell_type": "markdown",
      "source": [
        "## Questions\n",
        "\n",
        "--> If you use 1000 samples, do you observe many samples in both energy wells?\n",
        "\n",
        "--> How do the following estimated quantities compare to their true values?\n",
        "* free energy energy difference between the left and right wells\n",
        "* standard deviation of z\n",
        "\n",
        "--> Try estimating these properties based on 10000, 100000, and 1000000 samples. Describe how your estimates change as you increase the number of samples."
      ],
      "metadata": {
        "id": "K4VTaq7JU08f"
      }
    },
    {
      "cell_type": "markdown",
      "source": [
        "# References\n",
        "\n",
        "[1] Kumar, S.; Bouzida, D.; Swendsen, R. H.; Kollman, P. A.; Rosenberg, J. M. J. Comput. Chem. 1992, 13, 1011-1021. \\\\\n",
        "[2] Shirts, M. R.; Chodera, J. D. Statistically Optimal Analysis of Samples from Multiple Equilibrium States. The Journal of Chemical Physics 2008, 129 (12), 124105. https://doi.org/10.1063/1.2978177.\n"
      ],
      "metadata": {
        "id": "I0BFmFQUpBUw"
      }
    }
  ],
  "metadata": {
    "colab": {
      "provenance": [],
      "toc_visible": true
    },
    "kernelspec": {
      "display_name": "Python 3 (ipykernel)",
      "language": "python",
      "name": "python3"
    },
    "language_info": {
      "codemirror_mode": {
        "name": "ipython",
        "version": 3
      },
      "file_extension": ".py",
      "mimetype": "text/x-python",
      "name": "python",
      "nbconvert_exporter": "python",
      "pygments_lexer": "ipython3",
      "version": "3.7.3"
    },
    "toc-autonumbering": true
  },
  "nbformat": 4,
  "nbformat_minor": 0
}