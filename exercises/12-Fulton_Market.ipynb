{
 "cells": [
  {
   "cell_type": "code",
   "execution_count": null,
   "id": "a1a91136",
   "metadata": {
    "id": "a1a91136"
   },
   "outputs": [],
   "source": [
    "import os\n",
    "from matplotlib import pyplot as plt\n",
    "\n",
    "from sklearn.decomposition import PCA\n",
    "\n",
    "from scipy.spatial.distance import squareform\n",
    "import scipy.cluster\n",
    "\n",
    "import spyrmsd\n",
    "from spyrmsd import io, rmsd\n",
    "\n",
    "import MDAnalysis as mda\n",
    "from MDAnalysis.coordinates.memory import MemoryReader\n",
    "from MDAnalysis.analysis import align\n",
    "\n",
    "import py3Dmol\n",
    "\n",
    "import ipywidgets as widgets\n",
    "from ipywidgets import interact, interactive, fixed, interact_manual"
   ]
  },
  {
   "cell_type": "markdown",
   "id": "e12be577",
   "metadata": {
    "id": "e12be577"
   },
   "source": [
    "# Performing and analyzing a parallel tempering calculation with Fulton Market\n",
    "\n",
    "In this exercise, we will perform a parallel tempering calculation and some analysis. Parallel tempering is a type of replica exchange in which replicas differ only be temperature. Fulton Market is a package being developed my research group that implements several specific versions of replica exchange. This exercise was designed to be run on the Bridges-2 high performance computing resource.\n",
    "\n",
    "When you are done, download the document as a ipynb and upload it to your Google Drive for grading. It will be graded as satisfactory or unsatisfactory based on correctly completing the sections after `-->`. Do not remove the symbol `-->`.\n",
    "\n",
    "# Part 0 - Setting up the required software\n",
    "\n",
    "Log onto [Bridges-2 OnDemand](https://ondemand.bridges2.psc.edu/pun/sys/dashboard/) and create a shell.\n",
    "\n",
    "In Exercise 9, we created an environment called OpenMM. We would like to add openmmtools, which includes basic replica exchange capabilities, to this environment. Executing the following code will add the package.\n",
    "\n",
    "```bash\n",
    "conda activate OpenMM\n",
    "conda install -q -y -c conda-forge openmm openmmtools\n",
    "```\n",
    "\n",
    "In Exercise 10, we also created an environment called MDAnalysis. We would like to add packages to this environment.\n",
    "\n",
    "```bash\n",
    "conda activate MDAnalysis\n",
    "conda install -q -y -c conda-forge matplotlib seaborn pymbar spyrmsd rdkit\n",
    "```\n",
    "\n",
    "Also in Exercise 10, we created a folder called `GitHib` in your home directory. Change to that directory and download Fulton Market by entering `git clone https://github.com/CCBatIIT/FultonMarket.git`. Then to check out a specific version that works with this notebook use `cd FultonMarket` and then `git checkout e18d527`.\n",
    "\n",
    "Next change to your home directory or `ocean/projects/che240058p/{USERNAME}/exercises/12-Fulton_Market-{SYSTEM_NAME}` and download this notebook using `wget https://raw.githubusercontent.com/daveminh/Chem456-2024F/refs/heads/main/exercises/12-Fulton_Market.ipynb`."
   ]
  },
  {
   "cell_type": "markdown",
   "id": "625c7b82",
   "metadata": {
    "id": "625c7b82"
   },
   "source": [
    "# Part 1 - Running Fulton Market\n",
    "\n",
    "--> Change the code below to your Bridges-2 user name and receptor-ligand complex system name. When you run the code, you will either print commands to make a directory for this exercise and to change to the directory or actually run the commands on Bridges-2."
   ]
  },
  {
   "cell_type": "code",
   "execution_count": null,
   "id": "5e29926d",
   "metadata": {
    "id": "5e29926d"
   },
   "outputs": [],
   "source": [
    "USERNAME = 'dminh'\n",
    "# SYSTEM_NAME = 'ADORA2A-LUF5448'\n",
    "SYSTEM_NAME = 'ADORA2A-UK432097'\n",
    "\n",
    "DIR = {'Step_4':f'/ocean/projects/che240058p/{USERNAME}/exercises/08-OpenMM-{SYSTEM_NAME}',\n",
    "       'Step_5':f'/ocean/projects/che240058p/{USERNAME}/exercises/09-HPC-{SYSTEM_NAME}',\n",
    "       'OUT':   f'/ocean/projects/che240058p/{USERNAME}/exercises/12-Fulton_Market-{SYSTEM_NAME}'}\n",
    "\n",
    "if os.path.isdir('/ocean/projects/che240058p/'):\n",
    "    if not os.path.isdir(DIR['OUT']):\n",
    "        %mkdir -p {DIR['OUT']}\n",
    "    %cd {DIR['OUT']}\n",
    "else:\n",
    "    print(f\"mkdir -p {DIR['OUT']}\\ncd {DIR['OUT']}\")"
   ]
  },
  {
   "cell_type": "markdown",
   "id": "d50452e7",
   "metadata": {
    "id": "d50452e7"
   },
   "source": [
    "The code below will generate a job script. You can use a text editor such as nano or vim and save it as `{SYSTEM_NAME}_FultonMarket.job`. If you run this code on Bridges-2 it will write the script to the output directory."
   ]
  },
  {
   "cell_type": "code",
   "execution_count": null,
   "id": "5867a068",
   "metadata": {
    "id": "5867a068"
   },
   "outputs": [],
   "source": [
    "FN = {'system_xml': os.path.join(DIR['Step_4'],f'{SYSTEM_NAME}.xml'),\n",
    "      'state_xml':  os.path.join(DIR['Step_5'],f'Step_5.xml'),\n",
    "      'pdb':        os.path.join(DIR['Step_5'],f'Step_5.pdb')}\n",
    "\n",
    "job_script = f\"\"\"#!/bin/bash\n",
    "#SBATCH -p GPU-shared\n",
    "#SBATCH -t 48:00:00\n",
    "#SBATCH -N 1\n",
    "#SBATCH --ntasks=5\n",
    "#SBATCH --mem=60G\n",
    "#SBATCH --gpus=v100-32:1\n",
    "#SBATCH -A che240058p\n",
    "#SBATCH --mail-type=ALL\n",
    "\n",
    "#echo commands to stdout\n",
    "set -x\n",
    "\n",
    "module load anaconda3\n",
    "conda activate OpenMM\n",
    "\n",
    "export PYTHONPATH=\"/jet/home/{USERNAME}/GitHub/FultonMarket:$PYTHONPATH\"\n",
    "\n",
    "cd '/jet/home/{USERNAME}/GitHub/FultonMarket/'\n",
    "\n",
    "cat > Parallel_Tempering-{SYSTEM_NAME}.py <<EOF\n",
    "\n",
    "from FultonMarket.FultonMarket import FultonMarket\n",
    "market = FultonMarket(\\\\\n",
    "  input_system = '{FN['system_xml']}', \\\\\n",
    "  input_pdb = '{FN['pdb']}', \\\\\n",
    "  input_state = '{FN['state_xml']}', \\\\\n",
    "  n_replicates=135)\n",
    "market.run(\\\\\n",
    "  iter_length=0.001, \\\\\n",
    "  total_sim_time=500, \\\\\n",
    "  sim_length=25, \\\\\n",
    "  output_dir='{DIR['OUT']}')\n",
    "\n",
    "EOF\n",
    "\n",
    "python Parallel_Tempering-{SYSTEM_NAME}.py\n",
    "\"\"\"\n",
    "\n",
    "print(job_script)\n",
    "if os.path.isdir('/ocean/projects/che240058p/'):\n",
    "    with open(os.path.join(DIR['OUT'], f\"{SYSTEM_NAME}_FultonMarket.job\"), 'w') as F:\n",
    "        F.write(job_script)\n",
    "        F.close()"
   ]
  },
  {
   "cell_type": "markdown",
   "id": "53241f6e",
   "metadata": {
    "id": "53241f6e"
   },
   "source": [
    "After you have created the file, submit the job using the command `sbatch {SYSTEM_NAME}_FultonMarket.job`. As a reminder, after you submit the job, it will be on the queue until a compute node is available. You will receive emails when the job starts and completes. If your job completes in less than a minute than you probably have done something incorrectly."
   ]
  },
  {
   "cell_type": "code",
   "execution_count": null,
   "id": "9abd3338",
   "metadata": {
    "id": "9abd3338"
   },
   "outputs": [],
   "source": [
    "%cd {DIR['OUT']}\n",
    "!sbatch {SYSTEM_NAME}_FultonMarket.job"
   ]
  },
  {
   "cell_type": "markdown",
   "id": "75aa318e",
   "metadata": {
    "id": "75aa318e"
   },
   "source": [
    "As a reminder, you may also use `slurm-tool queue` or [other commands](https://www.psc.edu/resources/bridges-2/user-guide/#batch-jobs) to check your job status."
   ]
  },
  {
   "cell_type": "code",
   "execution_count": null,
   "id": "89230862",
   "metadata": {
    "id": "89230862"
   },
   "outputs": [],
   "source": [
    "!slurm-tool queue"
   ]
  },
  {
   "cell_type": "markdown",
   "id": "61fac7f7",
   "metadata": {
    "id": "61fac7f7"
   },
   "source": [
    "The maximum duration of a job is 48 hours. This calculation will probably take more than 48 hours. Once you receive an email saying that your job is complete, you can log on to Bridges-2 and resubmit the job using the same command.\n",
    "\n",
    "In Part 2, we will perform some analysis of this simulation. You can start this analysis once data is saved and before the job is complete."
   ]
  },
  {
   "cell_type": "code",
   "execution_count": null,
   "id": "207ca3da",
   "metadata": {
    "id": "207ca3da"
   },
   "outputs": [],
   "source": [
    "%cd {DIR['OUT']}\n",
    "!ls -ltr"
   ]
  },
  {
   "cell_type": "markdown",
   "id": "1f3aafb2",
   "metadata": {
    "id": "1f3aafb2"
   },
   "source": [
    "# Part 2 - Analysis of Fulton Market Simulations"
   ]
  },
  {
   "cell_type": "markdown",
   "id": "14426bbf",
   "metadata": {
    "id": "14426bbf"
   },
   "source": [
    "For analysis, you should create an interaction session on Bridges2. After it starts, load this notebook with the MDAnalysis kernel."
   ]
  },
  {
   "cell_type": "markdown",
   "id": "ec883b68",
   "metadata": {
    "id": "ec883b68"
   },
   "source": [
    "![image.png](attachment:image.png)"
   ]
  },
  {
   "cell_type": "code",
   "execution_count": null,
   "id": "715ea109",
   "metadata": {
    "id": "715ea109"
   },
   "outputs": [],
   "source": [
    "%cd '/jet/home/{USERNAME}/GitHub/FultonMarket/FultonMarket/'\n",
    "\n",
    "with open('analysis/FultonMarketAnalysis.py','r') as F:\n",
    "    dat = F.read()\n",
    "    F.close()\n",
    "dat = dat.replace('''        if os.path.exists(all([os.path.join(storage_dir, 'spring_centers.npy') for storage_dir in self.storage_dirs])):\n",
    "            self.spring_centers_list = [np.load(os.path.join(storage_dir, 'spring_centers.npy'), mmap_mode='r')[skip:] for storage_dir in self.storage_dirs]\n",
    "            self.spring_centers = self.spring_centers_list[-1]''','''#        if os.path.exists(all([os.path.join(storage_dir, 'spring_centers.npy') for storage_dir in self.storage_dirs])):\n",
    "#            self.spring_centers_list = [np.load(os.path.join(storage_dir, 'spring_centers.npy'), mmap_mode='r')[skip:] for storage_dir in self.storage_dirs]\n",
    "#            self.spring_centers = self.spring_centers_list[-1]''')\n",
    "with open('analysis/FultonMarketAnalysis.py','w') as F:\n",
    "    F.write(dat)\n",
    "    F.close()\n",
    "\n",
    "from analysis.FultonMarketAnalysis import *\n",
    "\n",
    "fma = FultonMarketAnalysis(DIR['OUT'], pdb = os.path.join(DIR['Step_4'],'Step_4.pdb'))\n",
    "fma.equilibration_method = 'energy'\n",
    "fma.resids = None"
   ]
  },
  {
   "cell_type": "markdown",
   "id": "1407e196",
   "metadata": {
    "id": "1407e196"
   },
   "source": [
    "## Replica exchange"
   ]
  },
  {
   "cell_type": "markdown",
   "id": "edc852b1",
   "metadata": {
    "id": "edc852b1"
   },
   "source": [
    "The following shows the mean energy across all replicas over the course of the simulation. The time series is used to estimate an equilbration time."
   ]
  },
  {
   "cell_type": "code",
   "execution_count": null,
   "id": "fe3e3b46",
   "metadata": {
    "id": "fe3e3b46"
   },
   "outputs": [],
   "source": [
    "fma.get_average_energy(plot=True);"
   ]
  },
  {
   "cell_type": "markdown",
   "id": "64519232",
   "metadata": {
    "id": "64519232"
   },
   "source": [
    "The following shows the thermodynamic state index of every fifth replicas from the last completed subsimulation."
   ]
  },
  {
   "cell_type": "code",
   "execution_count": null,
   "id": "d06b2608",
   "metadata": {
    "id": "d06b2608"
   },
   "outputs": [],
   "source": [
    "plt.plot(fma.state_inds[-1][:,::5]);\n",
    "plt.xlabel('Iteration')\n",
    "plt.ylabel('State index');"
   ]
  },
  {
   "cell_type": "markdown",
   "id": "4d98b39e",
   "metadata": {
    "id": "4d98b39e"
   },
   "source": [
    "--> Does the state index change with the iteration? Why?"
   ]
  },
  {
   "cell_type": "markdown",
   "id": "299e0eee",
   "metadata": {
    "id": "299e0eee"
   },
   "source": [
    "The following shows the energy distribution within each thermodynamic state."
   ]
  },
  {
   "cell_type": "code",
   "execution_count": null,
   "id": "25c4f495",
   "metadata": {
    "id": "25c4f495"
   },
   "outputs": [],
   "source": [
    "fma.plot_energy_distributions();"
   ]
  },
  {
   "cell_type": "markdown",
   "id": "3c262ecc",
   "metadata": {
    "id": "3c262ecc"
   },
   "source": [
    "--> Does the energy between different temperatures overlap?"
   ]
  },
  {
   "cell_type": "markdown",
   "id": "444862e4",
   "metadata": {
    "id": "444862e4"
   },
   "source": [
    "The following code plots the box volumes for every 10th thermodynamic state. They should fluctuate and higher temperatures should have larger volumes."
   ]
  },
  {
   "cell_type": "code",
   "execution_count": null,
   "id": "1e076c71",
   "metadata": {
    "id": "1e076c71"
   },
   "outputs": [],
   "source": [
    "fma.map = np.array(fma.map, dtype=int)\n",
    "box_vectors = fma._reshape_list(fma.unshaped_box_vectors)\n",
    "box_volumes = np.zeros((fma.map.shape[0], fma.map.shape[1]))\n",
    "for iteration in range(fma.map.shape[0]):\n",
    "    for state in range(fma.map.shape[1]):\n",
    "        sim_no, sim_iter, sim_rep_ind = fma.map[iteration, state]\n",
    "        box_volumes[iteration, state] = np.product(np.diag(box_vectors[sim_no][sim_iter, sim_rep_ind]))"
   ]
  },
  {
   "cell_type": "code",
   "execution_count": null,
   "id": "6bda1b20",
   "metadata": {
    "id": "6bda1b20",
    "scrolled": false
   },
   "outputs": [],
   "source": [
    "from matplotlib import colormaps\n",
    "from cycler import cycler\n",
    "\n",
    "ncolors = int(np.ceil(box_volumes.shape[1]/10.))\n",
    "cmap = colormaps['cool'].resampled(ncolors)\n",
    "color_cycle = [cmap(n) for n in range(ncolors)]\n",
    "\n",
    "fig, ax = plt.subplots()\n",
    "ax.set_prop_cycle(cycler(color=color_cycle))\n",
    "plt.plot(box_volumes[:,::10]);\n",
    "plt.xlabel('Iteration')\n",
    "plt.ylabel('Volume (A$^3$)');"
   ]
  },
  {
   "cell_type": "markdown",
   "id": "4eefa306",
   "metadata": {
    "id": "4eefa306"
   },
   "source": [
    "## Sampling importance resampling\n",
    "\n",
    "We have learned about importance sampling, where simulations in one state are used to estimate expectation values in other states. In sampling importance resampling, samples are resamples from simulations in other states. We will use sampling importance resampling to select conformations of the complex from multiple replica exchange temperatures."
   ]
  },
  {
   "cell_type": "markdown",
   "id": "0a2d6065",
   "metadata": {
    "id": "0a2d6065"
   },
   "source": [
    "The following shows the aggregate weight at the lowest temperature of simulations at each temperature."
   ]
  },
  {
   "cell_type": "code",
   "execution_count": null,
   "id": "de5dfde1",
   "metadata": {
    "id": "de5dfde1"
   },
   "outputs": [],
   "source": [
    "fma.resids = None\n",
    "fma.importance_resampling(equilibration_method='PCA')\n",
    "# Sum of weights per state\n",
    "fma.plot_weights()"
   ]
  },
  {
   "cell_type": "markdown",
   "id": "12b15e7a",
   "metadata": {
    "id": "12b15e7a"
   },
   "source": [
    "--> How does the sum of weights vary with temperature? Why?"
   ]
  },
  {
   "cell_type": "code",
   "execution_count": null,
   "id": "e704a2bf",
   "metadata": {
    "id": "e704a2bf"
   },
   "outputs": [],
   "source": [
    "# View representative frames of the lowest temperature, highest temperature,\n",
    "# and resampled from the lowest temperature\n",
    "nframes = 10\n",
    "\n",
    "mda_universe = mda.Universe(FN['pdb'])\n",
    "sel_complex = mda_universe.select_atoms('protein or resname UNK')\n",
    "mda_complex_universe = mda.Merge(sel_complex)\n",
    "mda_complex_universe_o = mda_complex_universe\n",
    "\n",
    "view = py3Dmol.view(viewergrid=(1,3), linked=True)\n",
    "for view_index, ensemble in enumerate(['low','high','resampled']):\n",
    "    if ensemble=='low':\n",
    "        sim_idx = fma.map[::int(fma.map.shape[0]/nframes+1),0,:]\n",
    "    elif ensemble=='high':\n",
    "        sim_idx = fma.map[::int(fma.map.shape[0]/nframes+1),-1,:]\n",
    "    else:\n",
    "        sim_idx = [fma.map[iteration, state].astype(int) \\\n",
    "            for (state, iteration) in fma.resampled_inds[:nframes]]\n",
    "    pos = np.array([fma.positions[s[0]][s[1],s[2],sel_complex.indices] for s in sim_idx])*10\n",
    "\n",
    "    mda_complex_universe.load_new(pos, format=MemoryReader)\n",
    "    align.AlignTraj(mobile=mda_complex_universe, reference=mda_complex_universe_o, \\\n",
    "                    select=\"protein\", in_memory=True).run()\n",
    "\n",
    "    # Show representative frames of the complex\n",
    "    with mda.Writer(\"complex.pdb\", multiframe=True) as pdb:\n",
    "        for ts in mda_complex_universe.trajectory:\n",
    "            pdb.write(mda_complex_universe)\n",
    "        pdb.close()\n",
    "    with open(\"complex.pdb\",'r') as F:\n",
    "        models = F.read()\n",
    "        F.close()\n",
    "\n",
    "    view.addModels(models, viewer=(0, view_index))\n",
    "    view.setStyle({'model': -1, 'resn':'UNK'}, {\"stick\": {}}, viewer=(0, view_index))\n",
    "    view.addStyle({'model': -1}, {\"cartoon\": {}}, viewer=(0, view_index))\n",
    "    view.zoomTo(viewer=(0, view_index))\n",
    "    view.rotate(270,'x')\n",
    "view.show()"
   ]
  },
  {
   "cell_type": "markdown",
   "id": "08d14d43",
   "metadata": {
    "id": "08d14d43"
   },
   "source": [
    "## Principal components analysis\n",
    "\n",
    "Principal components analysis (PCA) is a dimensionality reduction technique. Mathematically, it based on the eigenvectors of the covariance matrix. Conceptually, that means that the reduced dimensions are in the directions of the largest variance in the data. The following performs PCA based on a subset alpha carbon positions (defined by `selection_string`.\n",
    "\n",
    "The first two principal components are the directions where there is most variation in the data. The code also produces scatter plots overlaid on kernel density estimates (which essentially are smoothened histograms) of projections onto the first two principal components."
   ]
  },
  {
   "cell_type": "code",
   "execution_count": null,
   "id": "812d3bac",
   "metadata": {
    "id": "812d3bac"
   },
   "outputs": [],
   "source": [
    "# Principal components analysis based on 100 representative frames from\n",
    "# the lowest temperature, highest temperature, and resampled from the lowest temperature\n",
    "selection_string = 'name CA and resid 5:310'\n",
    "nframes = 500\n",
    "\n",
    "# Define selections\n",
    "mda_universe = mda.Universe(FN['pdb'])\n",
    "sel_complex = mda_universe.select_atoms('protein or resname UNK')\n",
    "mda_complex_universe = mda.Merge(sel_complex)\n",
    "sel_alpha_c = mda_complex_universe.select_atoms(selection_string)\n",
    "\n",
    "# Perform alignment\n",
    "positions = {}\n",
    "ensembles = ['low','high','resampled']\n",
    "for view_index, ensemble in enumerate(ensembles):\n",
    "    if ensemble=='low':\n",
    "        sim_idx = fma.map[::int(fma.map.shape[0]/nframes+1),0,:]\n",
    "    elif ensemble=='high':\n",
    "        sim_idx = fma.map[::int(fma.map.shape[0]/nframes+1),-1,:]\n",
    "    else:\n",
    "        sim_idx = [fma.map[iteration, state].astype(int) \\\n",
    "            for (state, iteration) in fma.resampled_inds[:nframes]]\n",
    "    pos = np.array([fma.positions[s[0]][s[1],s[2],sel_complex.indices] for s in sim_idx])*10\n",
    "\n",
    "    mda_complex_universe.load_new(pos, format=MemoryReader)\n",
    "    align.AlignTraj(mobile=mda_complex_universe, reference=mda_complex_universe_o, \\\n",
    "                    select=selection_string, in_memory=True).run()\n",
    "    positions[ensemble] = mda_complex_universe.trajectory.coordinate_array\n",
    "\n",
    "# Perform PCA\n",
    "super_traj = np.vstack([positions[ensemble][:,sel_alpha_c.indices,:].reshape(positions[ensemble].shape[0],-1) \\\n",
    "                        for ensemble in ensembles])\n",
    "pca = PCA()\n",
    "reduced_cartesian = pca.fit_transform(super_traj)\n",
    "\n",
    "# The following produces scatter plots and kernel density estimates\n",
    "last_inds = np.cumsum([positions[ensemble].shape[0] for ensemble in ensembles])\n",
    "start_inds = [0] + list(last_inds[:-1])\n",
    "limits = dict([(ensemble,(start_ind,last_ind)) \\\n",
    "    for (ensemble,start_ind,last_ind) in zip(ensembles, start_inds, last_inds)])\n",
    "\n",
    "fig, axs = plt.subplots(3, 1, figsize=(6.4, 12), sharex=True, layout='tight')\n",
    "\n",
    "for (ax, ensemble_color_pair) in enumerate([[('low','b'), ('high','r')],\\\n",
    "        [('low','b'), ('resampled','g')], [('high','r'), ('resampled','g')]]):\n",
    "    for (ensemble, color) in ensemble_color_pair:\n",
    "        (start_ind, last_ind) = limits[ensemble]\n",
    "        data = {'PC1':reduced_cartesian[start_ind:last_ind,0],\n",
    "                'PC2':reduced_cartesian[start_ind:last_ind,1]}\n",
    "        sns.kdeplot(data, x='PC1', y='PC2', color=color, label=ensemble, ax=axs[ax])\n",
    "        axs[ax].plot(data['PC1'], data['PC2'], '.', color=color, label=ensemble)\n",
    "    axs[ax].legend()"
   ]
  },
  {
   "cell_type": "markdown",
   "id": "2ff7e3d6",
   "metadata": {
    "id": "2ff7e3d6"
   },
   "source": [
    "--> Compare the configuration space sampled at the lower temperature, high temperature, and resampled (at the lower temperature) based on all replicas"
   ]
  },
  {
   "cell_type": "markdown",
   "id": "6c0c1bd1",
   "metadata": {
    "id": "6c0c1bd1"
   },
   "source": [
    "The actual principle component eigenvectors, the directions of largest variance, can also be shown. The following will show arrows from a representative structure in the direction of a principle component."
   ]
  },
  {
   "cell_type": "code",
   "execution_count": null,
   "id": "b151db16",
   "metadata": {
    "id": "b151db16"
   },
   "outputs": [],
   "source": [
    "with mda.Writer(\"complex.pdb\", multiframe=True) as pdb:\n",
    "    pdb.write(mda_complex_universe_o)\n",
    "    pdb.close()\n",
    "with open(\"complex.pdb\",'r') as F:\n",
    "    model = F.read()\n",
    "    F.close()\n",
    "\n",
    "def showPCA(component):\n",
    "    view = py3Dmol.view()\n",
    "    view.addModel(model)\n",
    "    view.setStyle({'resn':'UNK'}, {\"stick\": {}})\n",
    "    view.addStyle({}, {\"cartoon\": {}})\n",
    "    for (start, direction) in zip(\\\n",
    "            mda_complex_universe_o.trajectory.coordinate_array[0, sel_alpha_c.indices, :], \\\n",
    "            np.reshape(pca.components_[component,:],(-1,3))):\n",
    "        end = start + 100*direction\n",
    "        view.addArrow({'start':{'x':float(start[0]), 'y':float(start[1]), 'z':float(start[2])}, \\\n",
    "                       'end':{'x':float(end[0]), 'y':float(end[1]), 'z':float(end[2])}, \\\n",
    "                       'radius': 0.3, 'color': 'blue'})\n",
    "    view.zoomTo()\n",
    "    view.rotate(270,'x')\n",
    "    view.show()\n",
    "\n",
    "showPCA(0)"
   ]
  },
  {
   "cell_type": "code",
   "execution_count": null,
   "id": "c74bd373",
   "metadata": {
    "id": "c74bd373"
   },
   "outputs": [],
   "source": [
    "# Interactive widget to show principle components\n",
    "interact(showPCA, component = widgets.IntSlider(min=0, max=10, value=0,disabled=False));"
   ]
  },
  {
   "cell_type": "markdown",
   "id": "a93ec1e8",
   "metadata": {
    "id": "a93ec1e8"
   },
   "source": [
    "--> Describe the directions of the first three principle components"
   ]
  },
  {
   "cell_type": "markdown",
   "id": "64132788",
   "metadata": {
    "id": "64132788"
   },
   "source": [
    "## Binding pose prediction\n",
    "\n",
    "While we started with the ligand in a selected binding pose, it should move over the course of the simulation. We will use the most populated binding pose(s) in the simulation to predict the ligand binding pose."
   ]
  },
  {
   "cell_type": "code",
   "execution_count": null,
   "id": "8c612aa3",
   "metadata": {
    "id": "8c612aa3"
   },
   "outputs": [],
   "source": [
    "mda_universe = mda.Universe(FN['pdb'])\n",
    "sel_complex = mda_universe.select_atoms('protein or resname UNK')\n",
    "mda_complex_universe = mda.Merge(sel_complex)\n",
    "\n",
    "print('Extracting resampled configurations')\n",
    "sim_idx = [fma.map[iteration, state].astype(int) \\\n",
    "    for (state, iteration) in fma.resampled_inds]\n",
    "pos = np.array([fma.positions[s[0]][s[1],s[2],sel_complex.indices] for s in sim_idx])*10\n",
    "mda_complex_universe.load_new(pos, format=MemoryReader)\n",
    "\n",
    "print('Aligning configurations')\n",
    "align.AlignTraj(mobile=mda_complex_universe, reference=mda_complex_universe_o, \\\n",
    "                select=\"name CA\", in_memory=True).run()\n",
    "\n",
    "print('Extracing the ligand')\n",
    "sel_ligand = mda_complex_universe.select_atoms('resname UNK and not name H*')\n",
    "pos_ligand = np.array([ts.positions[sel_ligand.indices,:] for ts in mda_complex_universe.trajectory])\n",
    "mda_ligand_universe = mda.Merge(sel_ligand)\n",
    "mda_ligand_universe.load_new(pos_ligand, format=MemoryReader)\n",
    "\n",
    "# Write a frame of the ligand\n",
    "with mda.Writer(\"resampled_ligand.pdb\") as pdb:\n",
    "    pdb.write(mda_ligand_universe)\n",
    "mol = io.loadmol(\"resampled_ligand.pdb\")\n",
    "\n",
    "print('Calculating RMSD matrix')\n",
    "rmsds_sq = np.zeros((pos_ligand.shape[0],pos_ligand.shape[0]))\n",
    "for j in range(pos_ligand.shape[0]):\n",
    "    rmsds_sq[j,:j] = spyrmsd.rmsd.symmrmsd(pos_ligand[j], [pos_ligand[k] for k in range(j)], \\\n",
    "        mol.atomicnums, mol.atomicnums, mol.adjacency_matrix, mol.adjacency_matrix)\n",
    "for j in range(pos_ligand.shape[0]):\n",
    "    for k in range(j):\n",
    "        rmsds_sq[k,j] = rmsds_sq[j,k]\n",
    "\n",
    "plt.imshow(rmsds_sq);\n",
    "plt.title('Pairwise RMSDs');\n",
    "plt.colorbar();\n",
    "\n",
    "# Clustering according to RMSD\n",
    "rmsds = squareform(rmsds_sq)\n",
    "Z = scipy.cluster.hierarchy.linkage(rmsds, method='complete')\n",
    "assignments = np.array(\\\n",
    "  scipy.cluster.hierarchy.fcluster(Z, 2.5, criterion='distance'))\n",
    "\n",
    "# Create a list of how many frames are in a cluster and the representative frame from each cluster\n",
    "counts_and_medoids = []\n",
    "for n in range(1,max(assignments) + 1):\n",
    "    inds = [i for i in range(len(assignments)) if assignments[i] == n]\n",
    "    rmsds_n = rmsds_sq[inds][:, inds]\n",
    "    counts_and_medoids.append((len(inds), inds[np.argmin(np.mean(rmsds_n, 0))]))\n",
    "counts_and_medoids.sort(reverse=True)\n",
    "print('\\n'.join([f'Pose {index}: {count} frames with medoid at frame {medoid}' \\\n",
    "                 for index, (count, medoid) in enumerate(counts_and_medoids)]))\n",
    "\n",
    "pos_medoids = pos_ligand[[val[1] for val in counts_and_medoids],:,:]\n",
    "mda_ligand_universe.load_new(pos_medoids, format=MemoryReader)\n",
    "\n",
    "# Show representative frames of the ligand\n",
    "with mda.Writer(\"resampled_ligand.pdb\", multiframe=True) as pdb:\n",
    "    for ts in mda_ligand_universe.trajectory[:25]:\n",
    "        pdb.write(mda_ligand_universe)\n",
    "with open(\"resampled_ligand.pdb\",'r') as F:\n",
    "    models = F.read()"
   ]
  },
  {
   "cell_type": "code",
   "execution_count": null,
   "id": "cb07aaf2",
   "metadata": {
    "id": "cb07aaf2"
   },
   "outputs": [],
   "source": [
    "def render(selections):\n",
    "    view = py3Dmol.view(width=800, height=600)\n",
    "    view.addModels(models)\n",
    "    selected_models = [int(selection.split(':')[0]) for selection in selections]\n",
    "    for selected_model in selected_models:\n",
    "        view.setStyle({'model':selected_model, 'resn':'UNK'}, {\"stick\": {}})\n",
    "    view.zoomTo()\n",
    "    view.show()\n",
    "\n",
    "# Show ligand poses indexed by the list\n",
    "render(['0'])"
   ]
  },
  {
   "cell_type": "code",
   "execution_count": null,
   "id": "62a99f74",
   "metadata": {
    "id": "62a99f74"
   },
   "outputs": [],
   "source": [
    "# Interactive widget to show ligand binding poses\n",
    "interact(render, selections = widgets.SelectMultiple(\n",
    "    options = [f'{index}: {count}' for index, (count, medoid) in enumerate(counts_and_medoids)],\n",
    "    value = (f'0: {counts_and_medoids[0][0]}',),\n",
    "    disabled=False\n",
    "));"
   ]
  },
  {
   "cell_type": "markdown",
   "id": "36b2dc2d",
   "metadata": {
    "id": "36b2dc2d"
   },
   "source": [
    "--> Compare and contrast your top predicted binding poses"
   ]
  },
  {
   "cell_type": "code",
   "execution_count": null,
   "id": "1e20bca5",
   "metadata": {
    "id": "1e20bca5"
   },
   "outputs": [],
   "source": []
  }
 ],
 "metadata": {
  "colab": {
   "provenance": []
  },
  "kernelspec": {
   "display_name": "MDAnalysis",
   "language": "python",
   "name": "mdanalysis"
  },
  "language_info": {
   "codemirror_mode": {
    "name": "ipython",
    "version": 3
   },
   "file_extension": ".py",
   "mimetype": "text/x-python",
   "name": "python",
   "nbconvert_exporter": "python",
   "pygments_lexer": "ipython3",
   "version": "3.12.7"
  }
 },
 "nbformat": 4,
 "nbformat_minor": 5
}
